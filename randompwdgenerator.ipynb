{
  "nbformat": 4,
  "nbformat_minor": 0,
  "metadata": {
    "colab": {
      "provenance": []
    },
    "kernelspec": {
      "name": "python3",
      "display_name": "Python 3"
    },
    "language_info": {
      "name": "python"
    }
  },
  "cells": [
    {
      "cell_type": "code",
      "execution_count": null,
      "metadata": {
        "colab": {
          "base_uri": "https://localhost:8080/"
        },
        "id": "1bhdmFRhInYI",
        "outputId": "c51c9f71-9f0b-4989-ea2a-9d39c2b2a994"
      },
      "outputs": [
        {
          "output_type": "stream",
          "name": "stdout",
          "text": [
            "RANDOM PASSWORD GENERATOR FOR DUMB BRAINS\n",
            "number of letters = 3\n",
            "number of numbers = 2\n",
            "number of symbols = 3\n",
            "['i', 'I', 'G', '4', '8', '@', '*', '^']\n",
            "['i', '@', 'I', '*', '4', 'G', '^', '8']\n",
            "i@I*4G^8\n",
            "Now note this pswd somewhere before you forget it!!!\n"
          ]
        }
      ],
      "source": [
        "import random\n",
        "print(\"RANDOM PASSWORD GENERATOR FOR DUMB BRAINS\")\n",
        "letters = ['a','A','b','B','c','C','d','D','e','E','f','F','g','G','h','H','i','I','j','J','k','K','l','L','m','M','n','N','o','O','p','P','q','Q','r','R','s','S','t','T','u','U','v','V','w','W','x','X','y','Y','z','Z']\n",
        "numbers = ['0','1','2','3','4','5','6','7','8','9']\n",
        "symbols = ['!','@','#','$','%','^','&','*','(',')','_','-']\n",
        "password = []\n",
        "alps = int(input(\"number of letters = \"))\n",
        "nums = int(input(\"number of numbers = \"))\n",
        "syms = int(input(\"number of symbols = \"))\n",
        "for i in range(1,alps+1):\n",
        "    var = random.choice(letters)\n",
        "    password+=var\n",
        "\n",
        "for i in range(1,nums+1):\n",
        "    var = random.choice(numbers)\n",
        "    password+=var\n",
        "\n",
        "for i in range(1,syms+1):\n",
        "    var = random.choice(symbols)\n",
        "    password+=var\n",
        "print(password)\n",
        "random.shuffle(password)\n",
        "print(password)\n",
        "cpass=\"\"\n",
        "for var in password:\n",
        "    cpass+=var\n",
        "print(cpass)\n",
        "print(\"Now note this pswd somewhere before you forget it!!!\")\n"
      ]
    },
    {
      "cell_type": "code",
      "source": [],
      "metadata": {
        "id": "D6LHCGohNlNr"
      },
      "execution_count": null,
      "outputs": []
    }
  ]
}