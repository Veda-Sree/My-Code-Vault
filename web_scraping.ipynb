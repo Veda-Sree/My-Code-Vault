{
  "nbformat": 4,
  "nbformat_minor": 0,
  "metadata": {
    "colab": {
      "provenance": []
    },
    "kernelspec": {
      "name": "python3",
      "display_name": "Python 3"
    },
    "language_info": {
      "name": "python"
    }
  },
  "cells": [
    {
      "cell_type": "code",
      "source": [
        "import requests\n",
        "from bs4 import BeautifulSoup\n",
        "def scrape_wikipage(url):\n",
        "    try:\n",
        "        response = requests.get(url)\n",
        "        response.raise_for_status()\n",
        "        soup = BeautifulSoup(response.text, 'html.parser')\n",
        "        titles = soup.find_all(['h1', 'h2', 'h3', 'h4','h5','h6'])\n",
        "        #Titles\n",
        "        print(\"Section Titles:\")\n",
        "        for title in titles:\n",
        "            print(title.text.strip())\n",
        "        #Tables\n",
        "        tables = soup.find_all('table')\n",
        "        print(\"\\nTables:\")\n",
        "        for i, table in enumerate(tables, 1):\n",
        "            print(f\"Table {i}:\")\n",
        "            for row in table.find_all('tr'):\n",
        "                cells = row.find_all(['th', 'td'])\n",
        "                row_data = [cell.text.strip() for cell in cells]\n",
        "                print(row_data)\n",
        "        #images-urls\n",
        "        images = soup.find_all('img')\n",
        "        print(\"\\nImages:\")\n",
        "        for i, image in enumerate(images, 1):\n",
        "            print(f\"Image {i}: {image['src']}\")\n",
        "\n",
        "    except requests.exceptions.RequestException as e:\n",
        "        print(f\"Request error: {e}\")\n",
        "    except Exception as e:\n",
        "        print(f\"An error occurred: {e}\")\n",
        "scrape_wikipage('')"
      ],
      "metadata": {
        "colab": {
          "base_uri": "https://localhost:8080/"
        },
        "id": "ILDg5TeMDLd8",
        "outputId": "ba3d017a-a548-4011-bcea-b7091629789a"
      },
      "execution_count": null,
      "outputs": [
        {
          "output_type": "stream",
          "name": "stdout",
          "text": [
            "Section Titles:\n",
            "Makeup products\n",
            "New looks for the new season\n",
            "Do up your home\n",
            "Smart gadgets by Amazon\n",
            "Value bazaar\n",
            "Work from home essentials\n",
            "Revamp your home in style\n",
            "Innovations from Emerging Indian Brands\n",
            "\n",
            "Tables:\n",
            "Table 1:\n",
            "['']\n",
            "Table 2:\n",
            "['AbeBooksBooks, art& collectibles', '', 'Amazon Web ServicesScalable CloudComputing Services', '', 'AudibleDownloadAudio Books', '', 'IMDbMovies, TV& Celebrities']\n",
            "['']\n",
            "['ShopbopDesignerFashion Brands', '', 'Amazon BusinessEverything ForYour Business', '', 'Prime Now 2-Hour Deliveryon Everyday Items', '', 'Amazon Prime Music100 million songs, ad-freeOver 15 million podcast episodes']\n",
            "\n",
            "Images:\n",
            "Image 1: https://m.media-amazon.com/images/G/31/social_share/amazon_logo._CB633266945_.png\n",
            "Image 2: https://m.media-amazon.com/images/G/31/gno/sprites/nav-sprite-global-1x-reorg-privacy._CB600086755_.png\n",
            "Image 3: https://m.media-amazon.com/images/W/MEDIAX_792452-T2/images/G/31/Gateway_IN/testing/NewLaunches_400x39._CB593645585_.jpg\n",
            "Image 4: https://m.media-amazon.com/images/W/MEDIAX_792452-T2/images/I/51Id5Jjpm-L._SX1500_.jpg\n",
            "Image 5: https://images-eu.ssl-images-amazon.com/images/W/MEDIAX_792452-T2/images/G/31/img19/Beauty/GW/desktop/Make-up-CC_desktop_1x._SY304_CB466075850_.jpg\n",
            "Image 6: https://images-eu.ssl-images-amazon.com/images/W/MEDIAX_792452-T2/images/G/31/Gateway/Events/2018/JupiterFallBack/Jupiter_bau_PC_top_card_fashion_1x._SY304_CB484150077_.jpg\n",
            "Image 7: https://images-eu.ssl-images-amazon.com/images/W/MEDIAX_792452-T2/images/G/31/Gateway/Events/2018/JupiterFallBack/Jupiter_bau_PC_top_card_home_1x._SY304_CB484150079_.jpg\n",
            "Image 8: https://images-eu.ssl-images-amazon.com/images/W/MEDIAX_792452-T2/images/G/31/img19/AmazonDevices/neel/March/1X._SY304_CB469330167_.jpg\n",
            "Image 9: https://images-eu.ssl-images-amazon.com/images/W/MEDIAX_792452-T2/images/G/31/Gateway/Events/2018/JupiterFallBack/Jupiter_bau_PC_top_card_groceries_1x._SY304_CB484150076_.jpg\n",
            "Image 10: https://images-eu.ssl-images-amazon.com/images/W/MEDIAX_792452-T2/images/G/31/img20/CEPC/Covid19/V195588257_IN_CEPC_Contingency_Covid_GW_April20_rush_dbqc0.5x_3._SY116_CB433895198_.jpg\n",
            "Image 11: https://images-eu.ssl-images-amazon.com/images/W/MEDIAX_792452-T2/images/G/31/img20/CEPC/Covid19/V195588257_IN_CEPC_Contingency_Covid_GW_April20_rush_dbqc0.5x_4._SY116_CB433895198_.jpg\n",
            "Image 12: https://images-eu.ssl-images-amazon.com/images/W/MEDIAX_792452-T2/images/G/31/img20/CEPC/Covid19/V195588257_IN_CEPC_Contingency_Covid_GW_April20_rush_dbqc0.5x_1._SY116_CB433895198_.jpg\n",
            "Image 13: https://images-eu.ssl-images-amazon.com/images/W/MEDIAX_792452-T2/images/G/31/img20/CEPC/Covid19/V195588257_IN_CEPC_Contingency_Covid_GW_April20_rush_dbqc0.5x_2._SY116_CB433889427_.jpg\n",
            "Image 14: https://images-eu.ssl-images-amazon.com/images/W/MEDIAX_792452-T2/images/G/31/IMG20/Home/BAU/GWPC/XCM_Manual_372x232_1212890_372X232_1_bd034eee_6f06_4e0a_9967_d0e0e5f7f932_jpg_LOWER_QL10_._SY116_CB423376243_.jpg\n",
            "Image 15: https://images-eu.ssl-images-amazon.com/images/W/MEDIAX_792452-T2/images/G/31/IMG20/Home/BAU/GWPC/XCM_Manual_372x232_1212890_372X232_2_64e793dc_221d_4067_8fca_2f0338879977_jpg_LOWER_QL85_._SY116_CB423376243_.jpg\n",
            "Image 16: https://images-eu.ssl-images-amazon.com/images/W/MEDIAX_792452-T2/images/G/31/IMG20/Home/BAU/GWPC/XCM_Manual_372x232_1212890_372X232_3_ccc0f761_ea08_4cfb_9562_6f13e80170d8_jpg_LOWER_QL30_._SY116_CB423376243_.jpg\n",
            "Image 17: https://images-eu.ssl-images-amazon.com/images/W/MEDIAX_792452-T2/images/G/31/IMG20/Home/BAU/GWPC/XCM_Manual_372x232_1212890_372X232_4_bc4e9dc4_a3aa_4aae_93fd_9723dacd805f_jpg_LOWER_QL50_._SY116_CB423376243_.jpg\n",
            "Image 18: https://images-eu.ssl-images-amazon.com/images/W/MEDIAX_792452-T2/images/G/31/img20/AmazonLaunchpad/Gateway/June/dhyana_02_379_304._SY304_CB429464454_.jpg\n",
            "Image 19: https://m.media-amazon.com/images/G/31/personalization/ybh/loading-4x-gray._CB485916689_.gif\n"
          ]
        }
      ]
    }
  ]
}